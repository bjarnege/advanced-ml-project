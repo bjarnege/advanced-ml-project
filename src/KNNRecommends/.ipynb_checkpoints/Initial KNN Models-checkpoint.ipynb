{
 "cells": [
  {
   "cell_type": "code",
   "execution_count": 1,
   "id": "bb8e0dcf",
   "metadata": {},
   "outputs": [],
   "source": [
    "from scipy import spatial\n",
    "import sklearn.metrics.pairwise as smp\n",
    "from sklearn.neighbors import NearestNeighbors"
   ]
  },
  {
   "cell_type": "code",
   "execution_count": null,
   "id": "10aa8b63",
   "metadata": {},
   "outputs": [],
   "source": [
    "class FindNeighbors:\n",
    "    \n",
    "    def __init__(self, X_raw, indexes, word2vec, X=None):\n",
    "        self.word2vec = word2vec\n",
    "        self.X_raw = X_raw\n",
    "        self.indexes = indexes\n",
    "        \n",
    "        if X != None:\n",
    "            self.X = X\n",
    "        \n",
    "        \n",
    "    def cos(self, x_1, x_2):\n",
    "        return spatial.distance.cosine(x_1, x_2)\n",
    "        \n",
    "    def fit(self, k):\n",
    "        if not hasattr(self, 'X'):\n",
    "            self.X = np.array([self.word2vec.\\\n",
    "                               embed_text(text)[0]\\\n",
    "                               for text in tqdm(self.X_raw)])\n",
    "\n",
    "        self.neigh = NearestNeighbors(n_neighbors=k, metric=self.cos)\n",
    "        self.neigh.fit(self.X)\n",
    "    \n",
    "    def kneighbors(self, text):\n",
    "        vector = self.word2vec.embed_text(text)\n",
    "        cosine, neighbors_indexes = self.neigh.kneighbors(vector)\n",
    "        neighbors = pd.DataFrame(self.X_raw[(self.X_raw.index[neighbors_indexes])[0]])\n",
    "        neighbors[\"cos distance\"] = cosine[0]\n",
    "        return neighbors"
   ]
  },
  {
   "cell_type": "code",
   "execution_count": null,
   "id": "bb69802b",
   "metadata": {},
   "outputs": [],
   "source": [
    "df_merged = pd.read_csv(\"../../../resource/arXiv_metadata_filtered.csv\")\n",
    "images_vectors = numpy.load(\"../../../resource/images_vectors\")\n",
    "tables_vectors = numpy.load(\"../../../resource/tables_vectors\")\n",
    "references_vectors = numpy.load(\"../../../resource/references_vectors\")\n",
    "codes_vectors = numpy.load(\"../../../resource/codes_vectors\")\n",
    "abstracts_vectors = numpy.load(\"../../../resource/abstracts_vectors\")\n",
    "titles_vectors = numpy.load(\"../../../resource/titles_vectors\")"
   ]
  },
  {
   "cell_type": "code",
   "execution_count": null,
   "id": "64d2b6f7",
   "metadata": {},
   "outputs": [],
   "source": [
    "fn = FindNeighbors(title[:20000], np.array(title[:20000].index), Vectorizer.VectorizeData())\n",
    "fn.fit(10)"
   ]
  },
  {
   "cell_type": "code",
   "execution_count": null,
   "id": "b494d783",
   "metadata": {},
   "outputs": [],
   "source": []
  }
 ],
 "metadata": {
  "kernelspec": {
   "display_name": "Python 3",
   "language": "python",
   "name": "python3"
  },
  "language_info": {
   "codemirror_mode": {
    "name": "ipython",
    "version": 3
   },
   "file_extension": ".py",
   "mimetype": "text/x-python",
   "name": "python",
   "nbconvert_exporter": "python",
   "pygments_lexer": "ipython3",
   "version": "3.8.8"
  }
 },
 "nbformat": 4,
 "nbformat_minor": 5
}
